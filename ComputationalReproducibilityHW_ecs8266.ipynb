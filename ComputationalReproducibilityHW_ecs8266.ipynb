{
  "nbformat": 4,
  "nbformat_minor": 0,
  "metadata": {
    "colab": {
      "provenance": []
    },
    "kernelspec": {
      "name": "python3",
      "display_name": "Python 3"
    },
    "language_info": {
      "name": "python"
    }
  },
  "cells": [
    {
      "cell_type": "markdown",
      "source": [
        "Created on October 27, 2023"
      ],
      "metadata": {
        "id": "Y1IqWf50nK4z"
      }
    },
    {
      "cell_type": "code",
      "execution_count": 1,
      "metadata": {
        "colab": {
          "base_uri": "https://localhost:8080/"
        },
        "id": "MAnZyvDAnBwP",
        "outputId": "a3fda61b-cebc-4011-95b6-0fd852d0f625"
      },
      "outputs": [
        {
          "output_type": "execute_result",
          "data": {
            "text/plain": [
              "10"
            ]
          },
          "metadata": {},
          "execution_count": 1
        }
      ],
      "source": [
        "#Simple Arithmetic\n",
        "2 * 5"
      ]
    },
    {
      "cell_type": "markdown",
      "source": [
        "# **Reflection**"
      ],
      "metadata": {
        "id": "ldmryigauRId"
      }
    },
    {
      "cell_type": "markdown",
      "source": [
        "Using repositories, tracking changes, and publishing code on platforms like GitHub all aid and encourage computational researchers to be organized and transparent with their work. Repositories promote the use of README files, comments, and documentation within code – all of which lead to better organization and therefore simpler reproducibility for both the original writer and others. Additionally, the use of track changes allows one to know not only what code was finally decided upon but also exactly how one got there and the other things that were tested. While we often focus on code that works, just as we often focus on experiments that produce positive results, it can sometimes be just as important to know what didn’t work and why. Tracking changes allows one to go back and review how a code developed into what it is and what steps along the way may not have worked as well. In addition, publishing on places like GitHub not only gives one the option to share code publicly before or after manuscript publication, but also allows researchers to share with specific collaborators and track everyone’s changes at once. This is extremely helpful in the case of collaborating on code, as it can often be difficult to know what changes have been made and sending versions back and forth prevents simultaneous work, slowing down the entire process. The existence of a resource like GitHub which makes the publication of code so simple and unified has encouraged more and more researchers to take advantage of the space and more journals to require its use upon article publication. It has therefore contributed greatly to a positive shift in the transparency and reproducibility of computational research."
      ],
      "metadata": {
        "id": "Z5JCW-UeuJs5"
      }
    }
  ]
}